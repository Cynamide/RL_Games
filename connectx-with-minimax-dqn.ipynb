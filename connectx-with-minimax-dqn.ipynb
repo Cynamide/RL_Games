{
 "cells": [
  {
   "cell_type": "code",
   "execution_count": 1,
   "metadata": {
    "_cell_guid": "b1076dfc-b9ad-4769-8c92-a6c4dae69d19",
    "_uuid": "8f2839f25d086af736a60e9eeb907d3b93b6e0e5"
   },
   "outputs": [],
   "source": [
    "import numpy as np\n",
    "import gym\n",
    "import os \n",
    "import tensorflow as tf\n",
    "import matplotlib.pyplot as plt\n",
    "from tqdm import tqdm\n",
    "from environment import Vasuki\n"
   ]
  },
  {
   "cell_type": "code",
   "execution_count": 16,
   "metadata": {
    "_cell_guid": "79c7e3d0-c299-4dcb-8224-4455121ee9b0",
    "_uuid": "d629ff2d2480ee46fbb7e2d37f6b5fab8052498a"
   },
   "outputs": [],
   "source": [
    "Train = True\n",
    "gamma = 0.99\n",
    "copy_step = 250\n",
    "max_experiences = 1000000\n",
    "min_experiences = 20000\n",
    "Steps_Till_Backprop = 64\n",
    "batch_size = 512\n",
    "lr = 2.5e-4\n",
    "epsilon = 0.99\n",
    "decay = 0.999\n",
    "min_epsilon = 0.1\n",
    "episodes = 1000 #Set this to longer\n",
    "Metric_Titles = ['RewardA','RewardB','Score']\n"
   ]
  },
  {
   "cell_type": "markdown",
   "metadata": {},
   "source": [
    "Note the tanh output layer which restricts output to \\[-1,1\\]"
   ]
  },
  {
   "cell_type": "code",
   "execution_count": 17,
   "metadata": {},
   "outputs": [],
   "source": [
    "class DQN:\n",
    "    def __init__(self, num_states, num_actions, gamma, max_experiences, min_experiences, batch_size, lr,model):\n",
    "        self.num_actions = num_actions\n",
    "        self.batch_size = batch_size\n",
    "        self.optimizer = tf.keras.optimizers.Nadam(lr)\n",
    "        self.gamma = gamma\n",
    "        if model != None:\n",
    "            self.model = tf.keras.models.load_model(\"model.h5\")\n",
    "        self.model = self.rl_model()\n",
    "        self.experience = {'inputs': [], 'a': [], 'r': [], 'inputs2': []} # The buffer\n",
    "        self.max_experiences = max_experiences\n",
    "        self.min_experiences = min_experiences\n",
    "\n",
    "    #@tf.function\n",
    "    def train(self):\n",
    "        # Only start the training process when we have enough experiences in the buffer\n",
    "        if len(self.experience['inputs']) < self.min_experiences:\n",
    "            return 0\n",
    "\n",
    "        # Randomly select n experience in the buffer, n is batch-size\n",
    "        ids = np.random.randint(low=0, high=len(self.experience['inputs']), size=self.batch_size)\n",
    "        states = np.asarray([self.experience['inputs'][i] for i in ids])\n",
    "        actions = np.asarray([self.experience['a'][i] for i in ids])\n",
    "        rewards = np.asarray([self.experience['r'][i] for i in ids])\n",
    "\n",
    "        # Prepare labels for training process\n",
    "        states_next = np.asarray([self.experience['inputs2'][i] for i in ids])\n",
    "        #print(np.shape(states))\n",
    "        states_next = states_next.astype('float32')\n",
    "        Next_Q_Values = self.model(states_next.squeeze())\n",
    "        \n",
    "        value_next = np.max(Next_Q_Values)\n",
    "        actual_values = rewards+self.gamma*value_next\n",
    "        with tf.GradientTape() as tape:\n",
    "            selected_action_values = tf.math.reduce_sum(\n",
    "                self.model(states.squeeze()) * tf.one_hot(actions, self.num_actions), axis=1)\n",
    "            loss = tf.math.reduce_sum(tf.square(actual_values - selected_action_values))\n",
    "        variables = self.model.trainable_variables\n",
    "        gradients = tape.gradient(loss, variables)\n",
    "        self.optimizer.apply_gradients(zip(gradients, variables))\n",
    "        \n",
    "        \n",
    "\n",
    "    # Get an action by using epsilon-greedy\n",
    "    def get_action(self, state, epsilon):\n",
    "        if len(self.experience['inputs']) < self.min_experiences:\n",
    "            return int(np.random.choice(3))\n",
    "        if np.random.random() < epsilon:\n",
    "            return int(np.random.choice(3))\n",
    "        else:\n",
    "            prediction = self.model(state)\n",
    "            return np.argmax(prediction)\n",
    "\n",
    "    def add_experience(self, exp):\n",
    "        if len(self.experience['inputs']) >= self.max_experiences:\n",
    "            for key in self.experience.keys():\n",
    "                self.experience[key].pop(0)\n",
    "        for key, value in exp.items():\n",
    "            self.experience[key].append(value)\n",
    "\n",
    "    def rl_model(self):\n",
    "        model = tf.keras.models.Sequential([\n",
    "            tf.keras.layers.Dense(100, activation='relu',\n",
    "                                  input_shape=[num_states],kernel_initializer='he_normal'),\n",
    "            tf.keras.layers.Dense(200, activation='relu',kernel_initializer='he_normal'),\n",
    "            tf.keras.layers.Dense(200, activation='relu',kernel_initializer='he_normal'),\n",
    "            tf.keras.layers.Dense(100, activation='relu',kernel_initializer='he_normal'),\n",
    "            tf.keras.layers.Dense(num_actions, activation='tanh',kernel_initializer='RandomNormal')\n",
    "        ])\n",
    "        return model\n",
    "\n",
    "    def copy_weights(self, TrainNet):\n",
    "        variables1 = self.model.trainable_variables\n",
    "        variables2 = TrainNet.model.trainable_variables\n",
    "        for v1, v2 in zip(variables1, variables2):\n",
    "            v1.assign(v2.numpy())\n",
    "\n",
    "    def save_weights(self, path):\n",
    "        self.model.save_weights(path)\n",
    "\n",
    "    def load_weights(self, path):\n",
    "        ref_model = tf.keras.Sequential()\n",
    "\n",
    "        ref_model.add(self.model.input_layer)\n",
    "        for layer in self.model.hidden_layers:\n",
    "            ref_model.add(layer)\n",
    "        ref_model.add(self.model.output_layer)\n",
    "\n",
    "        ref_model.load_weights(path)\n",
    "\n",
    "\n",
    "    \n",
    "\n"
   ]
  },
  {
   "cell_type": "code",
   "execution_count": 18,
   "metadata": {},
   "outputs": [],
   "source": [
    "def get_obs(info,agent,closeFood):\n",
    "    scoreA = info['agentA']['score']\n",
    "    scoreB = info['agentB']['score']\n",
    "    n = 8\n",
    "    score = 0\n",
    "\n",
    "    if agent == 'agentA':\n",
    "        state = info['agentA']['state']\n",
    "        opp_state = info['agentB']['state']\n",
    "        head = info['agentA']['head']\n",
    "        velocity =  info['agentA']['velocity']\n",
    "        if scoreA>scoreB:\n",
    "            score = 1\n",
    "        \n",
    "    elif agent == 'agentB':\n",
    "        state = info['agentB']['state']\n",
    "        opp_state = info['agentA']['state']\n",
    "        head = info['agentB']['head']\n",
    "        velocity =  info['agentB']['velocity']\n",
    "        if scoreB>scoreA:\n",
    "            score = 1\n",
    "        \n",
    "    danger_top = 0\n",
    "    danger_left = 0\n",
    "    danger_right = 0\n",
    "    if head == 0: # North\n",
    "        if state[1] == velocity - 1:  # Left Wall\n",
    "            danger_left = 1\n",
    "        if state[0] == velocity - 1:  # Top Wall\n",
    "            danger_top = 1\n",
    "        if state[1] == n-velocity:  # Right Wall\n",
    "            danger_right = 1\n",
    "    elif head == 1: # East\n",
    "        if state[0] == velocity - 1:  # Top Wall\n",
    "            danger_left = 1\n",
    "        if state[1] == n-velocity:  # Right Wall\n",
    "            danger_top = 1\n",
    "        if state[0] == n-velocity:  # Bottom Wall\n",
    "            danger_right = 1\n",
    "    elif head == 2: # South\n",
    "        if state[1] == n - velocity:  # Right Wall\n",
    "            danger_left = 1\n",
    "        if state[0] == n-velocity:  # Bottom Wall\n",
    "            danger_top = 1\n",
    "        if state[1] == velocity-1:  # Left Wall\n",
    "            danger_right = 1\n",
    "    elif head == 3: # West\n",
    "        if state[0] == n - velocity:  # Bottom Wall\n",
    "            danger_left = 1\n",
    "        if state[1] == velocity-1:  # Left Wall\n",
    "            danger_top = 1\n",
    "        if state[0] == velocity-1:  # Top Wall\n",
    "            danger_right = 1\n",
    "    opponent_top = 0 \n",
    "    opponent_bottom = 0\n",
    "    opponent_left = 0 \n",
    "    opponent_right = 0\n",
    "    if opp_state[0] < state[0]:\n",
    "        opponent_top = 1\n",
    "    if opp_state[0] > state[0]:\n",
    "        opponent_bottom = 1\n",
    "    if opp_state[1] < state[1]:\n",
    "        opponent_left = 1\n",
    "    if opp_state[1] > state[1]:\n",
    "        opponent_right = 1\n",
    "    food_spawn = env.live_foodspawn_space[closeFood[0]]\n",
    "    food_top = 0 \n",
    "    food_bottom = 0\n",
    "    food_left = 0 \n",
    "    food_right = 0\n",
    "    if food_spawn[0] < state[0]:\n",
    "        food_top = 1\n",
    "    if food_spawn[0] > state[0]:\n",
    "        food_bottom = 1\n",
    "    if food_spawn[1] < state[1]:\n",
    "        food_left = 1\n",
    "    if food_spawn[1] > state[1]:\n",
    "        food_right = 1\n",
    "    obs = [0] * 16\n",
    "    obs[head] = 1\n",
    "    obs[4] = danger_top\n",
    "    obs[5] = danger_left\n",
    "    obs[6] = danger_right\n",
    "    obs[7] = opponent_top\n",
    "    obs[8] = opponent_bottom\n",
    "    obs[9] = opponent_left\n",
    "    obs[10] = opponent_right\n",
    "    obs[11] = food_top\n",
    "    obs[12] = food_bottom\n",
    "    obs[13] = food_left\n",
    "    obs[14] = food_right\n",
    "    obs[15] = score\n",
    "\n",
    "    obs = np.array([obs]).reshape(1,-1)\n",
    "    return obs\n"
   ]
  },
  {
   "cell_type": "code",
   "execution_count": 19,
   "metadata": {},
   "outputs": [],
   "source": [
    "def play_game(env, TrainNet, epsilon, copy_step,turns):\n",
    "    done = False\n",
    "    env.reset()\n",
    "    Metric_Buffer={key:[] for key in Metric_Titles}\n",
    "    action = {'actionA': 0, 'actionB': 0}\n",
    "    rewardA, rewardB, done, info = env.step(action)\n",
    "    closeFoodA = [0,0] # [food_index,distance]\n",
    "    closeFoodB = [0] # [index] \n",
    "    distA = []\n",
    "    distB = []\n",
    "    for food_loc in env.live_foodspawn_space:\n",
    "        distA.append(((((info['agentA']['state'][0] - food_loc[0] )**2) + ((info['agentA']['state'][1]-food_loc[1])**2) )**0.5))\n",
    "        distB.append(((((info['agentB']['state'][0] - food_loc[0] )**2) + ((info['agentB']['state'][1]-food_loc[1])**2) )**0.5))\n",
    "    closeFoodA[1] = min(distA)\n",
    "    closeFoodA[0] = distA.index(closeFoodA[1])\n",
    "    temp = min(distA)\n",
    "    closeFoodB[0] = distA.index(temp)\n",
    "    \n",
    "    while not done:\n",
    "\n",
    "        # Using epsilon-greedy to get an action\n",
    "        observationsA = get_obs(info,'agentA',closeFoodA)\n",
    "        actionA = TrainNet.get_action(observationsA, epsilon)\n",
    "        modifiedA, _ = env._movement_(actionA, info['agentA'])\n",
    "        info['agentA'] = modifiedA\n",
    "        observationsB = get_obs(info,'agentB',closeFoodB)\n",
    "        actionB = TrainNet.get_action(observationsB, epsilon)\n",
    "        action = {'actionA': actionA, 'actionB': actionB}\n",
    "        \n",
    "        # Caching the information of current state\n",
    "        prev_observation = observationsA\n",
    "        # Take action\n",
    "        rewardA, rewardB, done, info = env.step(action)\n",
    "        \n",
    "        if rewardA != env.rewards['Food'] or rewardA != env.rewards['Movement'] or rewardA != env.rewards['Illegal']:\n",
    "            if rewardA < 0:\n",
    "                rewardA = -200\n",
    "            else:\n",
    "                rewardA += 50\n",
    "            \n",
    "    \n",
    "        if rewardA == env.rewards['Food'] or rewardB == env.rewards['Food']:\n",
    "            distA = []\n",
    "            distB = []\n",
    "            for food_loc in env.live_foodspawn_space:\n",
    "                distA.append(((((info['agentA']['state'][0] - food_loc[0] )**2) + ((info['agentA']['state'][1]-food_loc[1])**2) )**0.5))\n",
    "                distB.append(((((info['agentB']['state'][0] - food_loc[0] )**2) + ((info['agentB']['state'][1]-food_loc[1])**2) )**0.5))\n",
    "            closeFoodA[1] = min(distA)\n",
    "            closeFoodA[0] = distA.index(closeFoodA[1])\n",
    "            temp = min(distB)\n",
    "            closeFoodB[0] = distB.index(temp)\n",
    "        else:\n",
    "            food_spawn = env.live_foodspawn_space[closeFoodA[0]]\n",
    "            dist = ((((info['agentA']['state'][0] - food_spawn[0] )**2) + ((info['agentA']['state'][1]-food_spawn[1])**2) )**0.5)\n",
    "            if dist < closeFoodA[1]:\n",
    "                rewardA += 1\n",
    "                closeFoodA[1] = dist\n",
    "        \n",
    "        observation = get_obs(info,'agentA',closeFoodA)\n",
    "        # Adding experience into buffer\n",
    "       \n",
    "        exp = {'inputs': prev_observation, 'a': actionA,\n",
    "                'r': rewardA, 'inputs2': observation}\n",
    "        TrainNet.add_experience(exp)\n",
    "\n",
    "        TrainNet.train()\n",
    "        turns += 1\n",
    "        # if turns%Steps_Till_Backprop==0:\n",
    "        #     TrainNet.train(TargetNet)\n",
    "        # if turns%copy_step==0:\n",
    "        #     # Update the weights of the target model when reaching enough \"copy step\"\n",
    "        #     TargetNet.copy_weights(TrainNet)\n",
    "        Metric_Buffer['RewardA'].append(rewardA)\n",
    "        Metric_Buffer['RewardB'].append(rewardB)\n",
    "        Metric_Buffer['Score'].append(info['agentA']['score'])\n",
    "    results={key:[] for key in Metric_Titles}\n",
    "    for metric_name in Metric_Titles:\n",
    "        results[metric_name]=np.mean(Metric_Buffer[metric_name])\n",
    "    return results,turns\n"
   ]
  },
  {
   "cell_type": "markdown",
   "metadata": {},
   "source": [
    "Start the training loop. Note here that we track some metrics (min/max/mean Q values). Although it may be hard to tell from these metrics what constitutes a good agent, tracking them can help you ascertain convergence."
   ]
  },
  {
   "cell_type": "code",
   "execution_count": 20,
   "metadata": {},
   "outputs": [],
   "source": [
    "config = {'n': 8, 'rewards': {'Food': 10, 'Movement': 0, 'Illegal': -100},\n",
    "                  'game_length': 100}\n",
    "env = Vasuki(**config)\n",
    "\n",
    "num_states = 16\n",
    "num_actions = env.action_space.n\n",
    "\n",
    "Metrics_Buffer = {key:[] for key in Metric_Titles} \n",
    "# Initialize models\n",
    "TrainNet = DQN(num_states, num_actions, gamma, max_experiences, min_experiences, batch_size, lr,None)\n",
    "# TargetNet = DQN(num_states, num_actions, gamma, max_experiences, min_experiences, batch_size, lr)\n",
    "\n"
   ]
  },
  {
   "cell_type": "code",
   "execution_count": 21,
   "metadata": {},
   "outputs": [],
   "source": [
    "#model =  tf.keras.models.load_model(\"model.h5\")"
   ]
  },
  {
   "cell_type": "code",
   "execution_count": 22,
   "metadata": {},
   "outputs": [],
   "source": [
    "#TrainNet = DQN(num_states, num_actions, gamma, max_experiences, min_experiences, batch_size, lr,model)"
   ]
  },
  {
   "cell_type": "code",
   "execution_count": 23,
   "metadata": {},
   "outputs": [
    {
     "name": "stderr",
     "output_type": "stream",
     "text": [
      "0it [3:11:44, ?it/s]1000 [00:00<00:20, 47.77it/s]\n",
      "100%|██████████| 1000/1000 [34:31<00:00,  2.07s/it]"
     ]
    },
    {
     "name": "stdout",
     "output_type": "stream",
     "text": [
      "WARNING:tensorflow:Compiled the loaded model, but the compiled metrics have yet to be built. `model.compile_metrics` will be empty until you train or evaluate the model.\n"
     ]
    },
    {
     "name": "stderr",
     "output_type": "stream",
     "text": [
      "\n"
     ]
    }
   ],
   "source": [
    "if Train:\n",
    "    pbar = tqdm(range(episodes))\n",
    "    pbar2 = tqdm()\n",
    "    turns = 0\n",
    "    for n in pbar:\n",
    "        epsilon = max(min_epsilon, epsilon * decay)\n",
    "        results, turns = play_game(env, TrainNet, epsilon, copy_step,turns)\n",
    "        for metric_name in Metric_Titles:\n",
    "            Metrics_Buffer[metric_name].append(results[metric_name])\n",
    "    TrainNet.model.save('./model.h5')\n",
    "else:\n",
    "    TrainNet.load_weights('./model.h5')\n"
   ]
  },
  {
   "cell_type": "code",
   "execution_count": 24,
   "metadata": {},
   "outputs": [
    {
     "data": {
      "text/plain": [
       "(-100.0, 100.0)"
      ]
     },
     "execution_count": 24,
     "metadata": {},
     "output_type": "execute_result"
    },
    {
     "data": {
      "image/png": "[encoded data removed]",
      "text/plain": [
       "<Figure size 432x288 with 1 Axes>"
      ]
     },
     "metadata": {
      "needs_background": "light"
     },
     "output_type": "display_data"
    }
   ],
   "source": [
    "plt.plot(range(1000),\n",
    "         Metrics_Buffer['Score'], label=\"B\")\n",
    "plt.ylim(-100, 100)\n"
   ]
  },
  {
   "cell_type": "code",
   "execution_count": 83,
   "metadata": {},
   "outputs": [
    {
     "data": {
      "text/plain": [
       "(-10.0, 10.0)"
      ]
     },
     "execution_count": 83,
     "metadata": {},
     "output_type": "execute_result"
    },
    {
     "data": {
      "image/png": "[encoded data removed]",
      "text/plain": [
       "<Figure size 432x288 with 1 Axes>"
      ]
     },
     "metadata": {
      "needs_background": "light"
     },
     "output_type": "display_data"
    }
   ],
   "source": [
    "plt.plot(range(1000),\n",
    "         Metrics_Buffer['RewardA'], label=\"A\")\n",
    "plt.ylim(-10, 10)"
   ]
  },
  {
   "cell_type": "code",
   "execution_count": 25,
   "metadata": {},
   "outputs": [
    {
     "data": {
      "text/plain": [
       "[<matplotlib.lines.Line2D at 0x1eb85cf7cc8>]"
      ]
     },
     "execution_count": 25,
     "metadata": {},
     "output_type": "execute_result"
    },
    {
     "data": {
      "image/png": "[encoded data removed]",
      "text/plain": [
       "<Figure size 432x288 with 1 Axes>"
      ]
     },
     "metadata": {
      "needs_background": "light"
     },
     "output_type": "display_data"
    }
   ],
   "source": [
    "plt.plot(range(1000),\n",
    "         Metrics_Buffer['RewardB'], label=\"A\")"
   ]
  },
  {
   "cell_type": "code",
   "execution_count": 26,
   "metadata": {},
   "outputs": [
    {
     "name": "stdout",
     "output_type": "stream",
     "text": [
      "WARNING:tensorflow:Compiled the loaded model, but the compiled metrics have yet to be built. `model.compile_metrics` will be empty until you train or evaluate the model.\n"
     ]
    }
   ],
   "source": [
    "TrainNet.model.save('./model.h5')\n"
   ]
  },
  {
   "cell_type": "code",
   "execution_count": null,
   "metadata": {},
   "outputs": [],
   "source": []
  },
  {
   "cell_type": "code",
   "execution_count": null,
   "metadata": {},
   "outputs": [],
   "source": []
  },
  {
   "cell_type": "code",
   "execution_count": null,
   "metadata": {},
   "outputs": [],
   "source": []
  }
 ],
 "metadata": {
  "kernelspec": {
   "display_name": "Python 3",
   "language": "python",
   "name": "python3"
  },
  "language_info": {
   "codemirror_mode": {
    "name": "ipython",
    "version": 3
   },
   "file_extension": ".py",
   "mimetype": "text/x-python",
   "name": "python",
   "nbconvert_exporter": "python",
   "pygments_lexer": "ipython3",
   "version": "3.7.9"
  }
 },
 "nbformat": 4,
 "nbformat_minor": 1
}
