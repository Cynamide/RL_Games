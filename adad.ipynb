{
 "cells": [
  {
   "cell_type": "code",
   "execution_count": 12,
   "metadata": {},
   "outputs": [],
   "source": [
    "from environment import Vasuki\n",
    "config = {'n': 8, 'rewards': {'Food': 4, 'Movement': -1, 'Illegal': -2},\n",
    "          'game_length': 100}  # Should not change for evaluation\n",
    "env = Vasuki(**config)\n",
    "\n"
   ]
  },
  {
   "cell_type": "code",
   "execution_count": 13,
   "metadata": {},
   "outputs": [],
   "source": [
    "import numpy as np"
   ]
  },
  {
   "cell_type": "code",
   "execution_count": 14,
   "metadata": {},
   "outputs": [],
   "source": [
    "env.reset()"
   ]
  },
  {
   "cell_type": "code",
   "execution_count": 15,
   "metadata": {},
   "outputs": [],
   "source": [
    "action = {'actionA': 0, 'actionB': 0}\n",
    "rewardA, rewardB, done, info = env.step(action)"
   ]
  },
  {
   "cell_type": "code",
   "execution_count": 51,
   "metadata": {},
   "outputs": [],
   "source": [
    "state = info['agentA']['state']\n",
    "opp_state = info['agentB']['state']\n",
    "head = info['agentA']['head']\n",
    "velocity =  info['agentA']['velocity']\n",
    "n = env.n"
   ]
  },
  {
   "cell_type": "code",
   "execution_count": 52,
   "metadata": {},
   "outputs": [],
   "source": [
    "danger_top = 0\n",
    "danger_left = 0\n",
    "danger_right = 0"
   ]
  },
  {
   "cell_type": "code",
   "execution_count": 65,
   "metadata": {},
   "outputs": [],
   "source": [
    "if head == 0: # North\n",
    "    if state[1] == velocity - 1:  # Left Wall\n",
    "        danger_left = 1\n",
    "    if state[0] == velocity - 1:  # Top Wall\n",
    "        danger_top = 1\n",
    "    if state[1] == n-velocity:  # Right Wall\n",
    "        danger_right = 1\n",
    "elif head == 1: # East\n",
    "    if state[0] == velocity - 1:  # Top Wall\n",
    "        danger_left = 1\n",
    "    if state[1] == n-velocity:  # Right Wall\n",
    "        danger_top = 1\n",
    "    if state[0] == n-velocity:  # Bottom Wall\n",
    "        danger_right = 1\n",
    "elif head == 2: # South\n",
    "    if state[1] == n - velocity:  # Right Wall\n",
    "        danger_left = 1\n",
    "    if state[0] == n-velocity:  # Bottom Wall\n",
    "        danger_top = 1\n",
    "    if state[1] == velocity-1:  # Left Wall\n",
    "        danger_right = 1\n",
    "elif head == 3: # West\n",
    "    if state[0] == n - velocity:  # Bottom Wall\n",
    "        danger_left = 1\n",
    "    if state[1] == velocity-1:  # Left Wall\n",
    "        danger_top = 1\n",
    "    if state[0] == velocity-1:  # Top Wall\n",
    "        danger_right = 1\n"
   ]
  },
  {
   "cell_type": "code",
   "execution_count": 69,
   "metadata": {},
   "outputs": [],
   "source": [
    "opponent_top = 0 \n",
    "opponent_bottom = 0\n",
    "opponent_left = 0 \n",
    "opponent_right = 0"
   ]
  },
  {
   "cell_type": "code",
   "execution_count": 70,
   "metadata": {},
   "outputs": [],
   "source": [
    "if opp_state[0] < state[0]:\n",
    "    opponent_top = 1\n",
    "if opp_state[0] > state[0]:\n",
    "    opponent_bottom = 1\n",
    "if opp_state[1] < state[1]:\n",
    "    opponent_left = 1\n",
    "if opp_state[1] > state[1]:\n",
    "    opponent_right = 1"
   ]
  },
  {
   "cell_type": "code",
   "execution_count": 71,
   "metadata": {},
   "outputs": [],
   "source": [
    "opp_encoded = [opponent_top,opponent_bottom,opponent_left,opponent_right]"
   ]
  },
  {
   "cell_type": "code",
   "execution_count": 72,
   "metadata": {},
   "outputs": [],
   "source": [
    "food_top = 0 \n",
    "food_bottom = 0\n",
    "food_left = 0 \n",
    "food_right = 0"
   ]
  },
  {
   "cell_type": "code",
   "execution_count": 79,
   "metadata": {},
   "outputs": [],
   "source": [
    "obs = [0] * 27\n",
    "obs[head] = 1\n",
    "obs[4] = danger_top\n",
    "obs[5] = danger_left\n",
    "obs[6] = danger_right\n",
    "obs[7] = opponent_top\n",
    "obs[8] = opponent_bottom\n",
    "obs[9] = opponent_left\n",
    "obs[10] = opponent_right"
   ]
  },
  {
   "cell_type": "code",
   "execution_count": 80,
   "metadata": {},
   "outputs": [],
   "source": [
    "i = 11\n",
    "for index,food_spawn in enumerate(env.live_foodspawn_space):\n",
    "    food_top = 0 \n",
    "    food_bottom = 0\n",
    "    food_left = 0 \n",
    "    food_right = 0\n",
    "    if food_spawn[0] < state[0]:\n",
    "        food_top = 1\n",
    "    if food_spawn[0] > state[0]:\n",
    "        food_bottom = 1\n",
    "    if food_spawn[1] < state[1]:\n",
    "        food_left = 1\n",
    "    if food_spawn[1] > state[1]:\n",
    "        food_right = 1\n",
    "    obs[i+index] = opponent_top\n",
    "    obs[i+index+1] = opponent_bottom\n",
    "    obs[i+index+2] = opponent_left\n",
    "    obs[i+index+3] = opponent_right \n",
    "    i = i+3"
   ]
  },
  {
   "cell_type": "code",
   "execution_count": 82,
   "metadata": {},
   "outputs": [],
   "source": [
    "obs = np.array([obs])"
   ]
  },
  {
   "cell_type": "code",
   "execution_count": 20,
   "metadata": {},
   "outputs": [
    {
     "data": {
      "text/plain": [
       "1.0"
      ]
     },
     "execution_count": 20,
     "metadata": {},
     "output_type": "execute_result"
    }
   ],
   "source": [
    "import math\n",
    "distance = []\n",
    "state = info['agentA']['state']\n",
    "for food_loc in env.live_foodspawn_space:\n",
    "    distance.append(((((state[0] - food_loc[0] )**2) + ((state[1]-food_loc[1])**2) )**0.5))\n",
    "min(distance)"
   ]
  },
  {
   "cell_type": "code",
   "execution_count": 17,
   "metadata": {},
   "outputs": [
    {
     "data": {
      "text/plain": [
       "array([[0., 0., 0., 0., 0., 3., 0., 0.],\n",
       "       [0., 0., 0., 0., 0., 0., 1., 0.],\n",
       "       [0., 0., 0., 0., 0., 0., 0., 2.],\n",
       "       [0., 0., 0., 0., 0., 0., 0., 1.],\n",
       "       [0., 1., 0., 0., 0., 0., 0., 0.],\n",
       "       [0., 0., 0., 0., 0., 0., 0., 0.],\n",
       "       [0., 0., 0., 0., 0., 1., 0., 0.],\n",
       "       [0., 0., 0., 0., 0., 0., 0., 0.]])"
      ]
     },
     "execution_count": 17,
     "metadata": {},
     "output_type": "execute_result"
    }
   ],
   "source": [
    "e,s = env.encode()\n",
    "s"
   ]
  },
  {
   "cell_type": "code",
   "execution_count": 16,
   "metadata": {},
   "outputs": [
    {
     "data": {
      "text/plain": [
       "array([[3., 7.],\n",
       "       [1., 6.],\n",
       "       [6., 5.],\n",
       "       [4., 1.]])"
      ]
     },
     "execution_count": 16,
     "metadata": {},
     "output_type": "execute_result"
    }
   ],
   "source": [
    "env.live_foodspawn_space"
   ]
  },
  {
   "cell_type": "code",
   "execution_count": null,
   "metadata": {},
   "outputs": [],
   "source": []
  }
 ],
 "metadata": {
  "interpreter": {
   "hash": "9b480f749ce4ef3b2bb2dc91bb87ab66f696b937cd35ce6ca033d1d9ef37b676"
  },
  "kernelspec": {
   "display_name": "Python 3.7.9 64-bit",
   "language": "python",
   "name": "python3"
  },
  "language_info": {
   "codemirror_mode": {
    "name": "ipython",
    "version": 3
   },
   "file_extension": ".py",
   "mimetype": "text/x-python",
   "name": "python",
   "nbconvert_exporter": "python",
   "pygments_lexer": "ipython3",
   "version": "3.7.9"
  },
  "orig_nbformat": 4
 },
 "nbformat": 4,
 "nbformat_minor": 2
}
